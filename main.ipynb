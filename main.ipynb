{
 "cells": [
  {
   "cell_type": "markdown",
   "metadata": {
    "collapsed": true,
    "pycharm": {
     "name": "#%% md\n"
    }
   },
   "source": []
  },
  {
   "cell_type": "markdown",
   "source": [
    "## Python XML parsing\n",
    "\n",
    "### Using xml.dom"
   ],
   "metadata": {
    "collapsed": false
   }
  },
  {
   "cell_type": "code",
   "source": [
    "from xml.dom.minidom import parse, parseString, Node"
   ],
   "metadata": {
    "collapsed": false,
    "pycharm": {
     "name": "#%%\n"
    }
   },
   "execution_count": 6,
   "outputs": []
  },
  {
   "cell_type": "code",
   "execution_count": 7,
   "outputs": [
    {
     "name": "stdout",
     "output_type": "stream",
     "text": [
      "<xml.dom.minidom.Document object at 0x00000179FE9310A0>\n"
     ]
    }
   ],
   "source": [
    "# opening it\n",
    "document = parse(\"sample.xml\")\n",
    "print(document)"
   ],
   "metadata": {
    "collapsed": false,
    "pycharm": {
     "name": "#%%\n"
    }
   }
  },
  {
   "cell_type": "code",
   "execution_count": 8,
   "outputs": [
    {
     "name": "stdout",
     "output_type": "stream",
     "text": [
      "<xml.dom.minidom.Document object at 0x00000179FE929DC0>\n"
     ]
    }
   ],
   "source": [
    "# using context manager\n",
    "with open(\"sample.xml\") as file:\n",
    "    document = parse(file)\n",
    "print(document)"
   ],
   "metadata": {
    "collapsed": false,
    "pycharm": {
     "name": "#%%\n"
    }
   }
  },
  {
   "cell_type": "code",
   "execution_count": 9,
   "outputs": [
    {
     "name": "stdout",
     "output_type": "stream",
     "text": [
      "<xml.dom.minidom.Document object at 0x00000179FDBAD760>\n"
     ]
    }
   ],
   "source": [
    "# parsing it through a string\n",
    "document = parseString('''<?xml version=\"1.0\"?>\n",
    "<catalog>\n",
    "   <book id=\"bk101\">\n",
    "      <author>Gambardella, Matthew</author>\n",
    "      <title>XML Developer's Guide</title>\n",
    "      <genre>Computer</genre>\n",
    "      <price>44.95</price>\n",
    "      <publish_date>2000-10-01</publish_date>\n",
    "      <description>An in-depth look at creating applications\n",
    "      with XML.</description>\n",
    "   </book>\n",
    "   </catalog>''')\n",
    "print(document)"
   ],
   "metadata": {
    "collapsed": false,
    "pycharm": {
     "name": "#%%\n"
    }
   }
  },
  {
   "cell_type": "markdown",
   "source": [
    "#### Accessing info from XML"
   ],
   "metadata": {
    "collapsed": false,
    "pycharm": {
     "name": "#%% md\n"
    }
   }
  },
  {
   "cell_type": "code",
   "execution_count": null,
   "outputs": [],
   "source": [
    "# It is able to return info such as version and DTD\n",
    "document = parse(\"sample.xml\")\n",
    "print(document.version)\n",
    "print(document.doctype)\n",
    "print(document.documentElement)"
   ],
   "metadata": {
    "collapsed": false,
    "pycharm": {
     "name": "#%%#%%\n"
    }
   }
  },
  {
   "cell_type": "code",
   "execution_count": 12,
   "outputs": [
    {
     "name": "stdout",
     "output_type": "stream",
     "text": [
      "None\n",
      "None\n"
     ]
    }
   ],
   "source": [
    "# However it can't parse elements\n",
    "document = parse(\"sample.xml\")\n",
    "print(document.getElementById(\"bk101\"))\n",
    "print(document.getElementById(\"bk102\"))"
   ],
   "metadata": {
    "collapsed": false,
    "pycharm": {
     "name": "#%%\n"
    }
   }
  },
  {
   "cell_type": "markdown",
   "source": [
    "#### Solve this issue by giving all elements an id attribute"
   ],
   "metadata": {
    "collapsed": false
   }
  },
  {
   "cell_type": "code",
   "execution_count": 13,
   "outputs": [],
   "source": [
    "def set_id_attribute(parent, attribute_name=\"id\"):\n",
    "    if parent.nodeType == Node.ELEMENT_NODE:\n",
    "        if parent.hasAttribute(attribute_name):\n",
    "            parent.setIdAttribute(attribute_name)\n",
    "    for child in parent.childNodes:\n",
    "        set_id_attribute(child, attribute_name)"
   ],
   "metadata": {
    "collapsed": false,
    "pycharm": {
     "name": "#%%\n"
    }
   }
  },
  {
   "cell_type": "code",
   "execution_count": 15,
   "outputs": [
    {
     "name": "stdout",
     "output_type": "stream",
     "text": [
      "<DOM Element: book at 0x179fe94aca0>\n",
      "<DOM Element: book at 0x179fe94aca0>\n"
     ]
    }
   ],
   "source": [
    "set_id_attribute(document)\n",
    "print(document.getElementById(\"bk101\"))\n",
    "print(document.getElementById(\"bk102\"))"
   ],
   "metadata": {
    "collapsed": false,
    "pycharm": {
     "name": "#%%\n"
    }
   }
  },
  {
   "cell_type": "code",
   "execution_count": 16,
   "outputs": [
    {
     "name": "stdout",
     "output_type": "stream",
     "text": [
      "<DOM Element: g at 0x179fe9853a0>\n",
      "[<DOM Element: ellipse at 0x179fe9855e0>, <DOM Element: ellipse at 0x179fe985940>]\n"
     ]
    }
   ],
   "source": [
    "document = parse(\"smiley.svg\")\n",
    "set_id_attribute(document)\n",
    "print(document.getElementById(\"smiley\"))\n",
    "print(document.getElementsByTagName(\"ellipse\"))"
   ],
   "metadata": {
    "collapsed": false,
    "pycharm": {
     "name": "#%%\n"
    }
   }
  },
  {
   "cell_type": "markdown",
   "source": [
    "#### Bad News\n"
   ],
   "metadata": {
    "collapsed": false
   }
  },
  {
   "cell_type": "code",
   "execution_count": 17,
   "outputs": [
    {
     "name": "stdout",
     "output_type": "stream",
     "text": [
      "does not work\n"
     ]
    }
   ],
   "source": [
    "try:\n",
    "    print(document.querySelector(\"#smiley\"))\n",
    "except AttributeError:\n",
    "    print(\"does not work\")\n"
   ],
   "metadata": {
    "collapsed": false,
    "pycharm": {
     "name": "#%%\n"
    }
   }
  },
  {
   "cell_type": "markdown",
   "source": [
    "#### for stuff like <inkscape:custom>"
   ],
   "metadata": {
    "collapsed": false
   }
  },
  {
   "cell_type": "code",
   "execution_count": null,
   "outputs": [],
   "source": [
    "document.getElementsByTagNameNS(\"*\", \"custom\")"
   ],
   "metadata": {
    "collapsed": false,
    "pycharm": {
     "name": "#%%\n"
    }
   }
  },
  {
   "cell_type": "code",
   "execution_count": null,
   "outputs": [],
   "source": [
    "#other stuff here\n"
   ],
   "metadata": {
    "collapsed": false,
    "pycharm": {
     "name": "#%%\n"
    }
   }
  },
  {
   "cell_type": "markdown",
   "source": [
    "### Using xml.sax"
   ],
   "metadata": {
    "collapsed": false
   }
  },
  {
   "cell_type": "code",
   "execution_count": 18,
   "outputs": [],
   "source": [
    "from xml.sax import parse\n",
    "from xml.sax.handler import ContentHandler\n",
    "\n",
    "class ParseXML(ContentHandler):\n",
    "    pass\n",
    "\n",
    "parse(\"smiley.svg\", ParseXML())"
   ],
   "metadata": {
    "collapsed": false,
    "pycharm": {
     "name": "#%%\n"
    }
   }
  },
  {
   "cell_type": "markdown",
   "source": [
    "prob no more time"
   ],
   "metadata": {
    "collapsed": false
   }
  }
 ],
 "metadata": {
  "kernelspec": {
   "display_name": "Python 3",
   "language": "python",
   "name": "python3"
  },
  "language_info": {
   "codemirror_mode": {
    "name": "ipython",
    "version": 2
   },
   "file_extension": ".py",
   "mimetype": "text/x-python",
   "name": "python",
   "nbconvert_exporter": "python",
   "pygments_lexer": "ipython2",
   "version": "2.7.6"
  }
 },
 "nbformat": 4,
 "nbformat_minor": 0
}