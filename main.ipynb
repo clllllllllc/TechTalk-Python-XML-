{
 "cells": [
  {
   "cell_type": "markdown",
   "metadata": {
    "collapsed": true,
    "pycharm": {
     "name": "#%% md\n"
    }
   },
   "source": []
  },
  {
   "cell_type": "markdown",
   "metadata": {
    "collapsed": false
   },
   "source": [
    "## Python XML parsing\n",
    "\n",
    "### Using xml.dom"
   ]
  },
  {
   "cell_type": "code",
   "execution_count": 24,
   "metadata": {
    "collapsed": false,
    "pycharm": {
     "name": "#%%\n"
    }
   },
   "outputs": [],
   "source": [
    "from xml.dom.minidom import parse, parseString, Node"
   ]
  },
  {
   "cell_type": "code",
   "execution_count": 25,
   "metadata": {
    "collapsed": false,
    "pycharm": {
     "name": "#%%\n"
    }
   },
   "outputs": [
    {
     "name": "stdout",
     "output_type": "stream",
     "text": [
      "<xml.dom.minidom.Document object at 0x7fda70218ac0>\n"
     ]
    }
   ],
   "source": [
    "# opening it\n",
    "document = parse(\"sample.xml\")\n",
    "print(document)"
   ]
  },
  {
   "cell_type": "code",
   "execution_count": 26,
   "metadata": {
    "collapsed": false,
    "pycharm": {
     "name": "#%%\n"
    }
   },
   "outputs": [
    {
     "name": "stdout",
     "output_type": "stream",
     "text": [
      "<xml.dom.minidom.Document object at 0x7fda88fd3a00>\n"
     ]
    }
   ],
   "source": [
    "# using context manager\n",
    "with open(\"sample.xml\") as file:\n",
    "    document = parse(file)\n",
    "print(document)"
   ]
  },
  {
   "cell_type": "code",
   "execution_count": 27,
   "metadata": {
    "collapsed": false,
    "pycharm": {
     "name": "#%%\n"
    }
   },
   "outputs": [
    {
     "name": "stdout",
     "output_type": "stream",
     "text": [
      "<xml.dom.minidom.Document object at 0x7fda89012460>\n"
     ]
    }
   ],
   "source": [
    "# parsing it through a string\n",
    "document = parseString('''<?xml version=\"1.0\"?>\n",
    "<catalog>\n",
    "   <book id=\"bk101\">\n",
    "      <author>Gambardella, Matthew</author>\n",
    "      <title>XML Developer's Guide</title>\n",
    "      <genre>Computer</genre>\n",
    "      <price>44.95</price>\n",
    "      <publish_date>2000-10-01</publish_date>\n",
    "      <description>An in-depth look at creating applications\n",
    "      with XML.</description>\n",
    "   </book>\n",
    "   </catalog>''')\n",
    "print(document)"
   ]
  },
  {
   "cell_type": "markdown",
   "metadata": {
    "collapsed": false
   },
   "source": [
    "#### Accessing info from XML"
   ]
  },
  {
   "cell_type": "code",
   "execution_count": 28,
   "metadata": {
    "collapsed": false,
    "pycharm": {
     "name": "#%%#%%\n"
    }
   },
   "outputs": [
    {
     "name": "stdout",
     "output_type": "stream",
     "text": [
      "1.0\n",
      "None\n",
      "<DOM Element: catalog at 0x7fda88fd61f0>\n"
     ]
    }
   ],
   "source": [
    "# It is able to return info such as version and DTD\n",
    "document = parse(\"sample.xml\")\n",
    "print(document.version)\n",
    "print(document.doctype)\n",
    "print(document.documentElement)"
   ]
  },
  {
   "cell_type": "code",
   "execution_count": 29,
   "metadata": {
    "collapsed": false,
    "pycharm": {
     "name": "#%%\n"
    }
   },
   "outputs": [
    {
     "name": "stdout",
     "output_type": "stream",
     "text": [
      "None\n",
      "None\n"
     ]
    }
   ],
   "source": [
    "# However it can't parse elements\n",
    "document = parse(\"sample.xml\")\n",
    "print(document.getElementById(\"bk101\"))\n",
    "print(document.getElementById(\"bk102\"))"
   ]
  },
  {
   "cell_type": "markdown",
   "metadata": {
    "collapsed": false
   },
   "source": [
    "#### Solve this issue by giving all elements an id attribute"
   ]
  },
  {
   "cell_type": "code",
   "execution_count": 30,
   "metadata": {
    "collapsed": false,
    "pycharm": {
     "name": "#%%\n"
    }
   },
   "outputs": [],
   "source": [
    "def set_id_attribute(parent, attribute_name=\"id\"):\n",
    "    if parent.nodeType == Node.ELEMENT_NODE:\n",
    "        if parent.hasAttribute(attribute_name):\n",
    "            parent.setIdAttribute(attribute_name)\n",
    "    for child in parent.childNodes:\n",
    "        set_id_attribute(child, attribute_name)"
   ]
  },
  {
   "cell_type": "code",
   "execution_count": 31,
   "metadata": {
    "collapsed": false,
    "pycharm": {
     "name": "#%%\n"
    }
   },
   "outputs": [
    {
     "name": "stdout",
     "output_type": "stream",
     "text": [
      "<DOM Element: book at 0x7fda8900e8b0>\n",
      "<DOM Element: book at 0x7fda8900eb80>\n"
     ]
    }
   ],
   "source": [
    "set_id_attribute(document)\n",
    "print(document.getElementById(\"bk101\"))\n",
    "print(document.getElementById(\"bk102\"))"
   ]
  },
  {
   "cell_type": "code",
   "execution_count": 32,
   "metadata": {
    "collapsed": false,
    "pycharm": {
     "name": "#%%\n"
    }
   },
   "outputs": [
    {
     "name": "stdout",
     "output_type": "stream",
     "text": [
      "<DOM Element: g at 0x7fda8900eee0>\n",
      "[<DOM Element: ellipse at 0x7fda89006f70>, <DOM Element: ellipse at 0x7fda89006d30>]\n"
     ]
    }
   ],
   "source": [
    "document = parse(\"smiley.svg\")\n",
    "set_id_attribute(document)\n",
    "print(document.getElementById(\"smiley\"))\n",
    "print(document.getElementsByTagName(\"ellipse\"))"
   ]
  },
  {
   "cell_type": "markdown",
   "metadata": {
    "collapsed": false
   },
   "source": [
    "#### Bad News\n"
   ]
  },
  {
   "cell_type": "code",
   "execution_count": 33,
   "metadata": {
    "collapsed": false,
    "pycharm": {
     "name": "#%%\n"
    }
   },
   "outputs": [
    {
     "name": "stdout",
     "output_type": "stream",
     "text": [
      "does not work\n"
     ]
    }
   ],
   "source": [
    "try:\n",
    "    print(document.querySelector(\"#smiley\"))\n",
    "except AttributeError:\n",
    "    print(\"does not work\")\n"
   ]
  },
  {
   "cell_type": "markdown",
   "metadata": {
    "collapsed": false
   },
   "source": [
    "#### for stuff like <inkscape:custom>"
   ]
  },
  {
   "cell_type": "code",
   "execution_count": 34,
   "metadata": {
    "collapsed": false,
    "pycharm": {
     "name": "#%%\n"
    }
   },
   "outputs": [
    {
     "data": {
      "text/plain": [
       "[<DOM Element: inkscape:custom at 0x7fda8901e310>]"
      ]
     },
     "execution_count": 34,
     "metadata": {},
     "output_type": "execute_result"
    }
   ],
   "source": [
    "document.getElementsByTagNameNS(\"*\", \"custom\")"
   ]
  },
  {
   "cell_type": "code",
   "execution_count": 35,
   "metadata": {
    "collapsed": false,
    "pycharm": {
     "name": "#%%\n"
    }
   },
   "outputs": [],
   "source": [
    "# other stuff here\n",
    "with open(\"smiley.svg\") as file:\n",
    "    document = parse(file)\n"
   ]
  },
  {
   "cell_type": "markdown",
   "metadata": {
    "collapsed": false
   },
   "source": [
    "### Using xml.sax"
   ]
  },
  {
   "cell_type": "code",
   "execution_count": 36,
   "metadata": {
    "collapsed": false,
    "pycharm": {
     "name": "#%%\n"
    }
   },
   "outputs": [
    {
     "name": "stdout",
     "output_type": "stream",
     "text": [
      "--------Book--------\n",
      "Id: bk101\n",
      "Author: Gambardella, Matthew\n",
      "Title: XML Developer's Guide\n",
      "genre: Computer\n",
      "price: 44.95\n",
      "publish_date: 2000-10-01\n",
      "description: An in-depth look at creating applications with XML.\n",
      "description:    \n",
      "--------Book--------\n",
      "Id: bk102\n",
      "Author: Ralls, Kim\n",
      "Title: Midnight Rain\n",
      "genre: Fantasy\n",
      "price: 5.95\n",
      "publish_date: 2000-12-16\n",
      "description: A former architect battles corporate zombies, an evil sorceress, and her own childhood to become queen of the world.\n",
      "description:    \n",
      "description: \n",
      "\n"
     ]
    },
    {
     "data": {
      "text/plain": [
       "''"
      ]
     },
     "execution_count": 36,
     "metadata": {},
     "output_type": "execute_result"
    }
   ],
   "source": [
    "import xml.sax\n",
    "\n",
    "class ParseXML(xml.sax.ContentHandler):\n",
    "\n",
    "    def __init__(self):\n",
    "      self.CurrentData = \"\"\n",
    "      self.author = \"\"\n",
    "      self.title = \"\"\n",
    "      self.genre = \"\"\n",
    "      self.price = \"\"\n",
    "      self.publish_date = \"\"\n",
    "      self.description = \"\"\n",
    "\n",
    "    def startElement(self, tag, attributes):\n",
    "        self.CurrentData = tag\n",
    "        if tag == \"book\":\n",
    "            print(\"--------Book--------\")\n",
    "            book_id = attributes[\"id\"]\n",
    "            print(f\"Id: {book_id}\")\n",
    "\n",
    "    def endElement(self, tag):\n",
    "        if self.CurrentData == \"title\":\n",
    "            print(f\"Title: {self.title}\")\n",
    "        elif self.CurrentData == \"author\":\n",
    "            print(f\"Author: {self.author}\")\n",
    "        elif self.CurrentData == \"genre\":\n",
    "            print(f\"genre: {self.genre}\")\n",
    "        elif self.CurrentData == \"price\":\n",
    "            print(f\"price: {self.price}\")\n",
    "        elif self.CurrentData == \"publish_date\":\n",
    "            print(f\"publish_date: {self.publish_date}\")\n",
    "        elif self.CurrentData == \"description\":\n",
    "            print(f\"description: {self.description}\")\n",
    "\n",
    "    def characters(self, content):\n",
    "        if self.CurrentData == \"title\":\n",
    "            self.title = content\n",
    "        elif self.CurrentData == \"author\":\n",
    "            self.author = content\n",
    "        elif self.CurrentData == \"genre\":\n",
    "            self.genre = content\n",
    "        elif self.CurrentData == \"price\":\n",
    "            self.price = content\n",
    "        elif self.CurrentData == \"publish_date\":\n",
    "            self.publish_date = content\n",
    "        elif self.CurrentData == \"description\":\n",
    "            self.description = content\n",
    "\n",
    "\n",
    "parser = xml.sax.make_parser()\n",
    "parser.setFeature(xml.sax.handler.feature_namespaces, 0)\n",
    "parser_object = ParseXML()\n",
    "parser.setContentHandler(parser_object)\n",
    "parser.parse(\"sample.xml\")\n",
    "\n",
    "\"\""
   ]
  },
  {
   "cell_type": "markdown",
   "metadata": {
    "collapsed": false,
    "pycharm": {
     "name": "#%% md\n"
    }
   },
   "source": [
    "..."
   ]
  },
  {
   "cell_type": "markdown",
   "metadata": {},
   "source": [
    "#### Simplified version"
   ]
  },
  {
   "cell_type": "code",
   "execution_count": 37,
   "metadata": {
    "collapsed": false,
    "pycharm": {
     "name": "#%%\n"
    }
   },
   "outputs": [
    {
     "name": "stdout",
     "output_type": "stream",
     "text": [
      "Book\n",
      "Id: bk101\n",
      "author: Gambardella, Matthew\n",
      "title: XML Developer's Guide\n",
      "genre: Computer\n",
      "price: 44.95\n",
      "publish_date: 2000-10-01\n",
      "description: An in-depth look at creating applications with XML.\n",
      "description:    \n",
      "Book\n",
      "Id: bk102\n",
      "author: Ralls, Kim\n",
      "title: Midnight Rain\n",
      "genre: Fantasy\n",
      "price: 5.95\n",
      "publish_date: 2000-12-16\n",
      "description: A former architect battles corporate zombies, an evil sorceress, and her own childhood to become queen of the world.\n",
      "description:    \n",
      "description: \n",
      "\n"
     ]
    },
    {
     "data": {
      "text/plain": [
       "''"
      ]
     },
     "execution_count": 37,
     "metadata": {},
     "output_type": "execute_result"
    }
   ],
   "source": [
    "import xml.sax\n",
    "\n",
    "class ParseXML(xml.sax.ContentHandler):\n",
    "\n",
    "    def __init__(self):\n",
    "      self.CurrentData = \"\"\n",
    "\n",
    "    def startElement(self, tag, attributes):\n",
    "        self.CurrentData = tag\n",
    "        if tag == \"book\":\n",
    "            print(\"Book\")\n",
    "            book_id = attributes[\"id\"]\n",
    "            print(f\"Id: {book_id}\")\n",
    "\n",
    "    def endElement(self, tag):\n",
    "        print(f\"{self.CurrentData}: {self.content}\")\n",
    "\n",
    "    def characters(self, content):\n",
    "        self.content = content\n",
    "\n",
    "parser = xml.sax.make_parser()\n",
    "parser.setFeature(xml.sax.handler.feature_namespaces, 0)\n",
    "parser_object = ParseXML()\n",
    "parser.setContentHandler(parser_object)\n",
    "parser.parse(\"sample.xml\")\n",
    "\n",
    "\"\""
   ]
  },
  {
   "cell_type": "code",
   "execution_count": null,
   "metadata": {},
   "outputs": [],
   "source": []
  }
 ],
 "metadata": {
  "kernelspec": {
   "display_name": "Python 3",
   "language": "python",
   "name": "python3"
  },
  "language_info": {
   "codemirror_mode": {
    "name": "ipython",
    "version": 3
   },
   "file_extension": ".py",
   "mimetype": "text/x-python",
   "name": "python",
   "nbconvert_exporter": "python",
   "pygments_lexer": "ipython3",
   "version": "3.9.5"
  }
 },
 "nbformat": 4,
 "nbformat_minor": 0
}
