{
 "cells": [
  {
   "cell_type": "markdown",
   "metadata": {
    "collapsed": true,
    "pycharm": {
     "name": "#%% md\n"
    }
   },
   "source": []
  },
  {
   "cell_type": "markdown",
   "metadata": {
    "collapsed": false
   },
   "source": [
    "## Python XML parsing\n",
    "\n",
    "### Using xml.dom"
   ]
  },
  {
   "cell_type": "code",
   "execution_count": null,
   "metadata": {
    "collapsed": false,
    "pycharm": {
     "name": "#%%\n"
    }
   },
   "outputs": [],
   "source": [
    "from xml.dom.minidom import parse, parseString, Node"
   ]
  },
  {
   "cell_type": "code",
   "execution_count": null,
   "metadata": {
    "collapsed": false,
    "pycharm": {
     "name": "#%%\n"
    }
   },
   "outputs": [],
   "source": [
    "# opening it\n",
    "document = parse(\"sample.xml\")\n",
    "print(document)"
   ]
  },
  {
   "cell_type": "code",
   "execution_count": null,
   "metadata": {
    "collapsed": false,
    "pycharm": {
     "name": "#%%\n"
    }
   },
   "outputs": [],
   "source": [
    "# using context manager\n",
    "with open(\"sample.xml\") as file:\n",
    "    document = parse(file)\n",
    "print(document)"
   ]
  },
  {
   "cell_type": "code",
   "execution_count": null,
   "metadata": {
    "collapsed": false,
    "pycharm": {
     "name": "#%%\n"
    }
   },
   "outputs": [],
   "source": [
    "# parsing it through a string\n",
    "document = parseString('''<?xml version=\"1.0\"?>\n",
    "<catalog>\n",
    "   <book id=\"bk101\">\n",
    "      <author>Gambardella, Matthew</author>\n",
    "      <title>XML Developer's Guide</title>\n",
    "      <genre>Computer</genre>\n",
    "      <price>44.95</price>\n",
    "      <publish_date>2000-10-01</publish_date>\n",
    "      <description>An in-depth look at creating applications\n",
    "      with XML.</description>\n",
    "   </book>\n",
    "   </catalog>''')\n",
    "print(document)"
   ]
  },
  {
   "cell_type": "markdown",
   "metadata": {
    "collapsed": false
   },
   "source": [
    "#### Accessing info from XML"
   ]
  },
  {
   "cell_type": "code",
   "execution_count": null,
   "metadata": {
    "collapsed": false,
    "pycharm": {
     "name": "#%%#%%\n"
    }
   },
   "outputs": [],
   "source": [
    "# It is able to return info such as version and DTD\n",
    "document = parse(\"sample.xml\")\n",
    "print(document.version)\n",
    "print(document.doctype)\n",
    "print(document.documentElement)"
   ]
  },
  {
   "cell_type": "code",
   "execution_count": null,
   "metadata": {
    "collapsed": false,
    "pycharm": {
     "name": "#%%\n"
    }
   },
   "outputs": [],
   "source": [
    "# However it can't parse elements\n",
    "document = parse(\"sample.xml\")\n",
    "print(document.getElementById(\"bk101\"))\n",
    "print(document.getElementById(\"bk102\"))"
   ]
  },
  {
   "cell_type": "markdown",
   "metadata": {
    "collapsed": false
   },
   "source": [
    "#### Solve this issue by giving all elements an id attribute"
   ]
  },
  {
   "cell_type": "code",
   "execution_count": null,
   "metadata": {
    "collapsed": false,
    "pycharm": {
     "name": "#%%\n"
    }
   },
   "outputs": [],
   "source": [
    "def set_id_attribute(parent, attribute_name=\"id\"):\n",
    "    if parent.nodeType == Node.ELEMENT_NODE:\n",
    "        if parent.hasAttribute(attribute_name):\n",
    "            parent.setIdAttribute(attribute_name)\n",
    "    for child in parent.childNodes:\n",
    "        set_id_attribute(child, attribute_name)"
   ]
  },
  {
   "cell_type": "code",
   "execution_count": null,
   "metadata": {
    "collapsed": false,
    "pycharm": {
     "name": "#%%\n"
    }
   },
   "outputs": [],
   "source": [
    "set_id_attribute(document)\n",
    "print(document.getElementById(\"bk101\"))\n",
    "print(document.getElementById(\"bk102\"))"
   ]
  },
  {
   "cell_type": "code",
   "execution_count": null,
   "metadata": {
    "collapsed": false,
    "pycharm": {
     "name": "#%%\n"
    }
   },
   "outputs": [],
   "source": [
    "document = parse(\"smiley.svg\")\n",
    "set_id_attribute(document)\n",
    "print(document.getElementById(\"smiley\"))\n",
    "print(document.getElementsByTagName(\"ellipse\"))"
   ]
  },
  {
   "cell_type": "markdown",
   "metadata": {
    "collapsed": false
   },
   "source": [
    "#### Bad News\n"
   ]
  },
  {
   "cell_type": "code",
   "execution_count": null,
   "metadata": {
    "collapsed": false,
    "pycharm": {
     "name": "#%%\n"
    }
   },
   "outputs": [],
   "source": [
    "try:\n",
    "    print(document.querySelector(\"#smiley\"))\n",
    "except AttributeError:\n",
    "    print(\"does not work\")\n"
   ]
  },
  {
   "cell_type": "markdown",
   "metadata": {
    "collapsed": false
   },
   "source": [
    "#### for stuff like <inkscape:custom>"
   ]
  },
  {
   "cell_type": "code",
   "execution_count": null,
   "metadata": {
    "collapsed": false,
    "pycharm": {
     "name": "#%%\n"
    }
   },
   "outputs": [],
   "source": [
    "document.getElementsByTagNameNS(\"*\", \"custom\")"
   ]
  },
  {
   "cell_type": "code",
   "execution_count": null,
   "metadata": {
    "collapsed": false,
    "pycharm": {
     "name": "#%%\n"
    }
   },
   "outputs": [],
   "source": [
    "# other stuff here\n",
    "with open(\"smiley.svg\") as file:\n",
    "    document = parse(file)\n"
   ]
  },
  {
   "cell_type": "markdown",
   "metadata": {
    "collapsed": false
   },
   "source": [
    "### Using xml.sax"
   ]
  },
  {
   "cell_type": "code",
   "execution_count": null,
   "metadata": {
    "collapsed": false,
    "pycharm": {
     "name": "#%%\n"
    }
   },
   "outputs": [],
   "source": [
    "import xml.sax\n",
    "\n",
    "class ParseXML(xml.sax.ContentHandler):\n",
    "\n",
    "    def __init__(self):\n",
    "      self.CurrentData = \"\"\n",
    "      self.author = \"\"\n",
    "      self.title = \"\"\n",
    "      self.genre = \"\"\n",
    "      self.price = \"\"\n",
    "      self.publish_date = \"\"\n",
    "      self.description = \"\"\n",
    "\n",
    "    def startElement(self, tag, attributes):\n",
    "        self.CurrentData = tag\n",
    "        if tag == \"book\":\n",
    "            print(\"--------Book--------\")\n",
    "            book_id = attributes[\"id\"]\n",
    "            print(f\"Id: {book_id}\")\n",
    "\n",
    "    def endElement(self, tag):\n",
    "        if self.CurrentData == \"title\":\n",
    "            print(f\"Title: {self.title}\")\n",
    "        elif self.CurrentData == \"author\":\n",
    "            print(f\"Author: {self.author}\")\n",
    "        elif self.CurrentData == \"genre\":\n",
    "            print(f\"genre: {self.genre}\")\n",
    "        elif self.CurrentData == \"price\":\n",
    "            print(f\"price: {self.price}\")\n",
    "        elif self.CurrentData == \"publish_date\":\n",
    "            print(f\"publish_date: {self.publish_date}\")\n",
    "        elif self.CurrentData == \"description\":\n",
    "            print(f\"description: {self.description}\")\n",
    "\n",
    "    def characters(self, content):\n",
    "        if self.CurrentData == \"title\":\n",
    "            self.title = content\n",
    "        elif self.CurrentData == \"author\":\n",
    "            self.author = content\n",
    "        elif self.CurrentData == \"genre\":\n",
    "            self.genre = content\n",
    "        elif self.CurrentData == \"price\":\n",
    "            self.price = content\n",
    "        elif self.CurrentData == \"publish_date\":\n",
    "            self.publish_date = content\n",
    "        elif self.CurrentData == \"description\":\n",
    "            self.description = content\n",
    "\n",
    "\n",
    "parser = xml.sax.make_parser()\n",
    "parser.setFeature(xml.sax.handler.feature_namespaces, 0)\n",
    "parser_object = ParseXML()\n",
    "parser.setContentHandler(parser_object)\n",
    "parser.parse(\"sample.xml\")\n",
    "\n",
    "\"\""
   ]
  },
  {
   "cell_type": "markdown",
   "metadata": {
    "collapsed": false,
    "pycharm": {
     "name": "#%% md\n"
    }
   },
   "source": [
    "..."
   ]
  },
  {
   "cell_type": "markdown",
   "metadata": {},
   "source": [
    "#### Simplified version"
   ]
  },
  {
   "cell_type": "code",
   "execution_count": null,
   "metadata": {
    "collapsed": false,
    "pycharm": {
     "name": "#%%\n"
    }
   },
   "outputs": [],
   "source": [
    "import xml.sax\n",
    "\n",
    "class ParseXML(xml.sax.ContentHandler):\n",
    "\n",
    "    def __init__(self):\n",
    "      self.CurrentData = \"\"\n",
    "\n",
    "    def startElement(self, tag, attributes):\n",
    "        self.CurrentData = tag\n",
    "        if tag == \"book\":\n",
    "            print(\"Book\")\n",
    "            book_id = attributes[\"id\"]\n",
    "            print(f\"Id: {book_id}\")\n",
    "\n",
    "    def endElement(self, tag):\n",
    "        print(f\"{self.CurrentData}: {self.content}\")\n",
    "\n",
    "    def characters(self, content):\n",
    "        self.content = content\n",
    "\n",
    "parser = xml.sax.make_parser()\n",
    "parser.setFeature(xml.sax.handler.feature_namespaces, 0)\n",
    "parser_object = ParseXML()\n",
    "parser.setContentHandler(parser_object)\n",
    "parser.parse(\"sample.xml\")\n",
    "\n",
    "\"\""
   ]
  }
 ],
 "metadata": {
  "kernelspec": {
   "display_name": "Python 3",
   "language": "python",
   "name": "python3"
  },
  "language_info": {
   "codemirror_mode": {
    "name": "ipython",
    "version": 3
   },
   "file_extension": ".py",
   "mimetype": "text/x-python",
   "name": "python",
   "nbconvert_exporter": "python",
   "pygments_lexer": "ipython3",
   "version": "3.9.5"
  }
 },
 "nbformat": 4,
 "nbformat_minor": 0
}